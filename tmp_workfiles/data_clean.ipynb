{
 "cells": [
  {
   "cell_type": "code",
   "execution_count": 5,
   "metadata": {},
   "outputs": [],
   "source": [
    "import pandas as pd\n",
    "import numpy as np\n",
    "import glob\n",
    "import os\n",
    "import re"
   ]
  },
  {
   "cell_type": "code",
   "execution_count": 6,
   "metadata": {},
   "outputs": [],
   "source": [
    "# Function to read a single job posting\n",
    "def read_job_posting(filename):\n",
    "    # read all the files into memory\n",
    "    with open(filename, 'r', errors='ignore') as fp:\n",
    "        filetext = fp.readlines()\n",
    "        filetext = [line.rstrip().replace('\\t+','') for line in filetext if line.rstrip()]\n",
    "    # concatenated file text\n",
    "    concat_file_text = '\\n'.join(filetext)\n",
    "    \n",
    "    # Extract Various Fields\n",
    "    this_file_data = {'FILE_NAME': os.path.basename(filename, ),\n",
    "                      'FILE_TEXT':concat_file_text,\n",
    "                      'JOB_CLASS_TITLE':filetext[0].rstrip(),\n",
    "                      'JOB_CLASS_NO': (re.findall(r'\\d+',list(filter(lambda x: 'Class Code:' in x,filetext))[0])[0] \n",
    "                                       if len(list(filter(lambda x: 'Class Code:' in x,filetext))) > 0 else np.nan),\n",
    "                      'OPEN_DATE': (list(filter(lambda x: 'Open Date:' in x,filetext))[0].split(\"Open Date:\")[1].split(\"(\")[0].strip() \n",
    "                                    if len(list(filter(lambda x: 'Open Date:' in x,filetext))) >0 else None),\n",
    "                      'JOB_DUTIES': re.split(r'DUTIES\\n*|\\n*REQUIREMENT',concat_file_text)[1],\n",
    "                      'ENTRY_SALARY_GEN': (re.split(r'\\n+|;|and|or|The|\\(|\\. |, ',\n",
    "                                                   re.split(r'ANNUAL SALARY\\n*',concat_file_text)[1])[0]\n",
    "                                                      .strip().replace('to','-').replace('TO','-').replace('flat rated.','(flat rated)') \n",
    "                                           if len(re.split(r'ANNUAL SALARY\\n*',concat_file_text)) > 1 else None),\n",
    "                      'ENTRY_SALARY_DWP': (re.split(r'\\n+|;|and|or|The|\\(|\\. , ',(list(filter(lambda x: 'salary in the Department of Water and Power is' in x,filetext))[0]\n",
    "                                            .split('Power is')[1]))[0]\n",
    "                                            .strip().replace('to','-')\n",
    "                                            .replace('flat rated.','(flat rated)') \n",
    "                                           if len(list(filter(lambda x: 'salary in the Department of Water and Power is' in x,filetext))) > 0 else np.nan),\n",
    "                      'REQUIREMENTS': (re.split(r'\\n*WHERE TO APPLY',(re.split(r'REQUIREMENTS?(?:\\s*/\\s*MINIMUM QUALIFICATIONS?)?\\n*',concat_file_text)[1]))[0]\n",
    "                                       if len(re.split(r'REQUIREMENTS?(?:\\s*/\\s*MINIMUM QUALIFICATIONS?)?',concat_file_text)) > 1 else None),\n",
    "                     }\n",
    "    # ENTRY_SALARY_GEN\n",
    "    if this_file_data['ENTRY_SALARY_GEN'] is not None:\n",
    "        if '$' not in this_file_data['ENTRY_SALARY_GEN']:\n",
    "            this_file_data['ENTRY_SALARY_GEN'] = None\n",
    "    try: \n",
    "        this_file_data['ENTRY_SALARY_AVG'] = (np.mean(list(map(float,re.sub('\\$|,|\\(*flat.*rated\\)*|-|\\*','',this_file_data['ENTRY_SALARY_GEN']).split()))))\n",
    "    except Exception as e:\n",
    "        this_file_data['ENTRY_SALARY_AVG'] = np.nan #if this_file_data['ENTRY_SALARY_GEN'] is not None else np.nan)                              \n",
    "\n",
    "    \n",
    "    if 'driver\\'s license is required' in this_file_data['REQUIREMENTS']:\n",
    "        this_file_data['DRIVER_LICENSE_REQ'] = 'R'\n",
    "    elif re.compile('driver\\'s license').search(this_file_data['REQUIREMENTS']):\n",
    "        this_file_data['DRIVER_LICENSE_REQ'] = 'P'\n",
    "    else:\n",
    "        this_file_data['DRIVER_LICENSE_REQ'] = ''\n",
    "     \n",
    "    df = pd.DataFrame(this_file_data, index=[0])\n",
    "    df['DRIV_LIC_TYPE'] = df.REQUIREMENTS.str.extract(r'(Class.*)\\s+(driver\\'s)\\s*license?')[0].str.replace('\\s*(driver\\'s)?\\s*license.*|\\s*California\\s*','')\n",
    "   \n",
    "    return(df)"
   ]
  },
  {
   "cell_type": "code",
   "execution_count": 7,
   "metadata": {},
   "outputs": [
    {
     "name": "stdout",
     "output_type": "stream",
     "text": [
      "Reading: ./data/CityofLA/Job Bulletins\n"
     ]
    }
   ],
   "source": [
    "bulletin_dir = \"./data/CityofLA/Job Bulletins\"\n",
    "print('Reading: '+ bulletin_dir)\n",
    "\n",
    "filenames = glob.glob(bulletin_dir+'/*')\n",
    "data_list = []\n",
    "for file_ in filenames:\n",
    "    df = read_job_posting(file_)\n",
    "    data_list.append(df)\n",
    "        \n",
    "df_jobs = pd.concat(data_list, sort = False).reset_index(drop = True)\n",
    "#df_jobs.head(10)\n",
    "#set(df_jobs.DRIV_LIC_TYPE)"
   ]
  },
  {
   "cell_type": "code",
   "execution_count": 14,
   "metadata": {},
   "outputs": [
    {
     "data": {
      "text/html": [
       "<div>\n",
       "<style scoped>\n",
       "    .dataframe tbody tr th:only-of-type {\n",
       "        vertical-align: middle;\n",
       "    }\n",
       "\n",
       "    .dataframe tbody tr th {\n",
       "        vertical-align: top;\n",
       "    }\n",
       "\n",
       "    .dataframe thead th {\n",
       "        text-align: right;\n",
       "    }\n",
       "</style>\n",
       "<table border=\"1\" class=\"dataframe\">\n",
       "  <thead>\n",
       "    <tr style=\"text-align: right;\">\n",
       "      <th></th>\n",
       "      <th>file_name</th>\n",
       "      <th>file_text</th>\n",
       "      <th>job_class_title</th>\n",
       "      <th>job_class_no</th>\n",
       "      <th>open_date</th>\n",
       "      <th>job_duties</th>\n",
       "      <th>entry_salary_gen</th>\n",
       "      <th>entry_salary_dwp</th>\n",
       "      <th>requirements</th>\n",
       "      <th>entry_salary_avg</th>\n",
       "      <th>driver_license_req</th>\n",
       "      <th>driv_lic_type</th>\n",
       "    </tr>\n",
       "  </thead>\n",
       "  <tbody>\n",
       "    <tr>\n",
       "      <th>237</th>\n",
       "      <td>STREET LIGHTING ELECTRICIAN SUPERVISOR 3840 03...</td>\n",
       "      <td>STREET LIGHTING ELECTRICIAN SUPERVISOR\\n\\tClas...</td>\n",
       "      <td>STREET LIGHTING ELECTRICIAN SUPERVISOR</td>\n",
       "      <td>3840</td>\n",
       "      <td>03-17-17</td>\n",
       "      <td>A Street Lighting Electrician Supervisor plans...</td>\n",
       "      <td>$99,347</td>\n",
       "      <td>NaN</td>\n",
       "      <td>\\tTwo years of full-time paid experience as a ...</td>\n",
       "      <td>99347.0</td>\n",
       "      <td>R</td>\n",
       "      <td>NaN</td>\n",
       "    </tr>\n",
       "    <tr>\n",
       "      <th>577</th>\n",
       "      <td>ELEVATOR MECHANIC 3866 012717 REV 080718.txt</td>\n",
       "      <td>ELEVATOR MECHANIC\\nClass Code:       3866\\nOpe...</td>\n",
       "      <td>ELEVATOR MECHANIC</td>\n",
       "      <td>3866</td>\n",
       "      <td>01-27-17</td>\n",
       "      <td>An Elevator Mechanic does skilled electrical, ...</td>\n",
       "      <td>$100,866</td>\n",
       "      <td>$101,351</td>\n",
       "      <td>A Certificate as a Competent Conveyance (Eleva...</td>\n",
       "      <td>100866.0</td>\n",
       "      <td>P</td>\n",
       "      <td>NaN</td>\n",
       "    </tr>\n",
       "  </tbody>\n",
       "</table>\n",
       "</div>"
      ],
      "text/plain": [
       "                                             file_name  \\\n",
       "237  STREET LIGHTING ELECTRICIAN SUPERVISOR 3840 03...   \n",
       "577       ELEVATOR MECHANIC 3866 012717 REV 080718.txt   \n",
       "\n",
       "                                             file_text  \\\n",
       "237  STREET LIGHTING ELECTRICIAN SUPERVISOR\\n\\tClas...   \n",
       "577  ELEVATOR MECHANIC\\nClass Code:       3866\\nOpe...   \n",
       "\n",
       "                            job_class_title job_class_no open_date  \\\n",
       "237  STREET LIGHTING ELECTRICIAN SUPERVISOR         3840  03-17-17   \n",
       "577                       ELEVATOR MECHANIC         3866  01-27-17   \n",
       "\n",
       "                                            job_duties entry_salary_gen  \\\n",
       "237  A Street Lighting Electrician Supervisor plans...          $99,347   \n",
       "577  An Elevator Mechanic does skilled electrical, ...         $100,866   \n",
       "\n",
       "    entry_salary_dwp                                       requirements  \\\n",
       "237              NaN  \\tTwo years of full-time paid experience as a ...   \n",
       "577         $101,351  A Certificate as a Competent Conveyance (Eleva...   \n",
       "\n",
       "     entry_salary_avg driver_license_req driv_lic_type  \n",
       "237           99347.0                  R           NaN  \n",
       "577          100866.0                  P           NaN  "
      ]
     },
     "execution_count": 14,
     "metadata": {},
     "output_type": "execute_result"
    }
   ],
   "source": [
    "df_jobs.columns = [x.lower() for x in df_jobs.columns]\n",
    "df_jobs.to_csv(\"./data/jobs_df.csv\")\n",
    "df_jobs.sample(2)"
   ]
  },
  {
   "cell_type": "code",
   "execution_count": 27,
   "metadata": {},
   "outputs": [
    {
     "data": {
      "text/plain": [
       "entry_salary_avg    float64\n",
       "dtype: object"
      ]
     },
     "execution_count": 27,
     "metadata": {},
     "output_type": "execute_result"
    }
   ],
   "source": [
    "df_jobs['']"
   ]
  },
  {
   "cell_type": "code",
   "execution_count": null,
   "metadata": {},
   "outputs": [],
   "source": []
  }
 ],
 "metadata": {
  "kernelspec": {
   "display_name": "Python 3",
   "language": "python",
   "name": "python3"
  },
  "language_info": {
   "codemirror_mode": {
    "name": "ipython",
    "version": 3
   },
   "file_extension": ".py",
   "mimetype": "text/x-python",
   "name": "python",
   "nbconvert_exporter": "python",
   "pygments_lexer": "ipython3",
   "version": "3.6.8"
  }
 },
 "nbformat": 4,
 "nbformat_minor": 2
}
